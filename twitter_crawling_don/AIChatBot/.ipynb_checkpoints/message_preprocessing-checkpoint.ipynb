{
 "cells": [
  {
   "cell_type": "code",
   "execution_count": null,
   "id": "2fab1962",
   "metadata": {},
   "outputs": [],
   "source": [
    "import re\n",
    "from konlpy.tag import Okt\n",
    "\n",
    "class MessagePreprocessor:\n",
    "    def __init__(self):\n",
    "        self.tokenizer = Okt()\n",
    "\n",
    "    def preprocess(self, text):\n",
    "        # 한글 및 공백을 제외한 문자를 모두 제거합니다.\n",
    "        text = re.sub(\"[^가-힣ㄱ-ㅎㅏ-ㅣ\\\\s]\", \"\", text)\n",
    "        \n",
    "        # 토큰화 및 불용어 제거\n",
    "        tokens = self.tokenizer.morphs(text)\n",
    "        stopwords = ['의', '가', '이', '은', '들', '는', '좀', '잘', '걍', '과', '도', '를', '으로', '자', '에', '와', '한', '하다']\n",
    "        tokens = [word for word in tokens if word not in stopwords]\n",
    "        \n",
    "        return \" \".join(tokens)\n",
    "\n",
    "    def preprocess_messages(self, messages):\n",
    "        for message in messages:\n",
    "            message[\"content\"] = self.preprocess(message[\"content\"])\n",
    "        return messages\n",
    "\n",
    "# 사용 예시\n",
    "preprocessor = MessagePreprocessor()\n",
    "preprocessed_messages = preprocessor.preprocess_messages(st.session_state.messages)\n",
    "print(preprocessed_messages)"
   ]
  },
  {
   "cell_type": "markdown",
   "id": "14a650ec",
   "metadata": {},
   "source": [
    "### 시간은 추가 안해도 됨?"
   ]
  },
  {
   "cell_type": "code",
   "execution_count": null,
   "id": "aedf9ea8",
   "metadata": {},
   "outputs": [],
   "source": []
  }
 ],
 "metadata": {
  "kernelspec": {
   "display_name": "Python 3 (ipykernel)",
   "language": "python",
   "name": "python3"
  },
  "language_info": {
   "codemirror_mode": {
    "name": "ipython",
    "version": 3
   },
   "file_extension": ".py",
   "mimetype": "text/x-python",
   "name": "python",
   "nbconvert_exporter": "python",
   "pygments_lexer": "ipython3",
   "version": "3.10.12"
  }
 },
 "nbformat": 4,
 "nbformat_minor": 5
}
